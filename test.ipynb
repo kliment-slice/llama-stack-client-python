{
 "cells": [
  {
   "cell_type": "code",
   "execution_count": null,
   "metadata": {},
   "outputs": [],
   "source": [
    "HOST = \"http://localhost\"\n",
    "PORT = 5001\n",
    "MODEL_NAME='meta-llama/Llama-3.2:latest'\n",
    "\n",
    "from llama_stack_client import LlamaStackClient\n",
    "client = LlamaStackClient(base_url=f\"{HOST}:{PORT}\")\n",
    "system_parameters = client.check_system_resources(MODEL_NAME)"
   ]
  }
 ],
 "metadata": {
  "language_info": {
   "name": "python"
  }
 },
 "nbformat": 4,
 "nbformat_minor": 2
}
